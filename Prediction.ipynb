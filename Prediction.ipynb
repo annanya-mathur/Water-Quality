{
 "cells": [
  {
   "cell_type": "markdown",
   "metadata": {
    "id": "Zf5VjAOLvrV-"
   },
   "source": [
    "# Modeling and Predicting whether any Station in India has polluted water bodies or not\n",
    "\n",
    "**For Detecting Water Quality different Parameters are:-**\n",
    "\n",
    "1.   PH  (==7)\n",
    "2.   CONDUCTIVITY (µmhos/cm)\n",
    "3.   Dissolved Oxygen (mg/l)\n",
    "4.   Temperature\n",
    "5.   Biochemical Oxygen Demand (mg/l)\n",
    "6.   NITRATENAN N+ NITRITENANN (mg/l)\n",
    "7.   TOTAL COLIFORM (MPN/100ml)Mean\n",
    "\n"
   ]
  },
  {
   "cell_type": "code",
   "execution_count": 1,
   "metadata": {
    "id": "Y8ciniWF_yX0"
   },
   "outputs": [
    {
     "name": "stdout",
     "output_type": "stream",
     "text": [
      "Requirement already satisfied: pandas in c:\\users\\dell\\anaconda3\\envs\\tensorflow_env\\lib\\site-packages (1.2.4)\n",
      "Requirement already satisfied: pytz>=2017.3 in c:\\users\\dell\\anaconda3\\envs\\tensorflow_env\\lib\\site-packages (from pandas) (2021.1)\n",
      "Requirement already satisfied: numpy>=1.16.5 in c:\\users\\dell\\anaconda3\\envs\\tensorflow_env\\lib\\site-packages (from pandas) (1.18.5)\n",
      "Requirement already satisfied: python-dateutil>=2.7.3 in c:\\users\\dell\\anaconda3\\envs\\tensorflow_env\\lib\\site-packages (from pandas) (2.8.1)\n",
      "Requirement already satisfied: six>=1.5 in c:\\users\\dell\\anaconda3\\envs\\tensorflow_env\\lib\\site-packages (from python-dateutil>=2.7.3->pandas) (1.15.0)\n",
      "Requirement already satisfied: sklearn in c:\\users\\dell\\anaconda3\\envs\\tensorflow_env\\lib\\site-packages (0.0)\n",
      "Requirement already satisfied: scikit-learn in c:\\users\\dell\\anaconda3\\envs\\tensorflow_env\\lib\\site-packages (from sklearn) (0.24.2)\n",
      "Requirement already satisfied: numpy>=1.13.3 in c:\\users\\dell\\anaconda3\\envs\\tensorflow_env\\lib\\site-packages (from scikit-learn->sklearn) (1.18.5)\n",
      "Requirement already satisfied: threadpoolctl>=2.0.0 in c:\\users\\dell\\anaconda3\\envs\\tensorflow_env\\lib\\site-packages (from scikit-learn->sklearn) (2.1.0)\n",
      "Requirement already satisfied: joblib>=0.11 in c:\\users\\dell\\anaconda3\\envs\\tensorflow_env\\lib\\site-packages (from scikit-learn->sklearn) (1.0.1)\n",
      "Requirement already satisfied: scipy>=0.19.1 in c:\\users\\dell\\appdata\\roaming\\python\\python38\\site-packages (from scikit-learn->sklearn) (1.4.1)\n",
      "Requirement already satisfied: xlrd in c:\\users\\dell\\anaconda3\\envs\\tensorflow_env\\lib\\site-packages (2.0.1)\n"
     ]
    }
   ],
   "source": [
    "!pip install pandas\n",
    "!pip install sklearn\n",
    "!pip install xlrd\n",
    "import pandas as pd\n",
    "from sklearn.model_selection import train_test_split\n"
   ]
  },
  {
   "cell_type": "code",
   "execution_count": 2,
   "metadata": {
    "colab": {
     "base_uri": "https://localhost:8080/",
     "height": 296
    },
    "id": "GUsYGaJS_3Lj",
    "outputId": "f43f5ffc-a397-44b8-9a1f-10a497d43926"
   },
   "outputs": [
    {
     "data": {
      "text/html": [
       "<div>\n",
       "<style scoped>\n",
       "    .dataframe tbody tr th:only-of-type {\n",
       "        vertical-align: middle;\n",
       "    }\n",
       "\n",
       "    .dataframe tbody tr th {\n",
       "        vertical-align: top;\n",
       "    }\n",
       "\n",
       "    .dataframe thead th {\n",
       "        text-align: right;\n",
       "    }\n",
       "</style>\n",
       "<table border=\"1\" class=\"dataframe\">\n",
       "  <thead>\n",
       "    <tr style=\"text-align: right;\">\n",
       "      <th></th>\n",
       "      <th>STATION CODE</th>\n",
       "      <th>LOCATIONS</th>\n",
       "      <th>STATE</th>\n",
       "      <th>Temp</th>\n",
       "      <th>D.O. (mg/l)</th>\n",
       "      <th>PH</th>\n",
       "      <th>CONDUCTIVITY (µmhos/cm)</th>\n",
       "      <th>B.O.D. (mg/l)</th>\n",
       "      <th>NITRATENAN N+ NITRITENANN (mg/l)</th>\n",
       "      <th>FECAL COLIFORM (MPN/100ml)</th>\n",
       "      <th>TOTAL COLIFORM (MPN/100ml)Mean</th>\n",
       "      <th>year</th>\n",
       "    </tr>\n",
       "  </thead>\n",
       "  <tbody>\n",
       "    <tr>\n",
       "      <th>0</th>\n",
       "      <td>1393</td>\n",
       "      <td>DAMANGANGA AT D/S OF MADHUBAN, DAMAN</td>\n",
       "      <td>DAMAN &amp; DIU</td>\n",
       "      <td>30.6</td>\n",
       "      <td>6.7</td>\n",
       "      <td>7.5</td>\n",
       "      <td>203</td>\n",
       "      <td>0.0</td>\n",
       "      <td>0.1</td>\n",
       "      <td>11.0</td>\n",
       "      <td>27.0</td>\n",
       "      <td>2014</td>\n",
       "    </tr>\n",
       "    <tr>\n",
       "      <th>1</th>\n",
       "      <td>1399</td>\n",
       "      <td>ZUARI AT D/S OF PT. WHERE KUMBARJRIA CANAL JOI...</td>\n",
       "      <td>GOA</td>\n",
       "      <td>29.8</td>\n",
       "      <td>5.7</td>\n",
       "      <td>7.2</td>\n",
       "      <td>189</td>\n",
       "      <td>2.0</td>\n",
       "      <td>0.2</td>\n",
       "      <td>4953.0</td>\n",
       "      <td>8391.0</td>\n",
       "      <td>2014</td>\n",
       "    </tr>\n",
       "    <tr>\n",
       "      <th>2</th>\n",
       "      <td>1475</td>\n",
       "      <td>ZUARI AT PANCHAWADI</td>\n",
       "      <td>GOA</td>\n",
       "      <td>29.5</td>\n",
       "      <td>6.3</td>\n",
       "      <td>6.9</td>\n",
       "      <td>179</td>\n",
       "      <td>1.7</td>\n",
       "      <td>0.1</td>\n",
       "      <td>3243.0</td>\n",
       "      <td>5330.0</td>\n",
       "      <td>2014</td>\n",
       "    </tr>\n",
       "    <tr>\n",
       "      <th>3</th>\n",
       "      <td>3181</td>\n",
       "      <td>RIVER ZUARI AT BORIM BRIDGE</td>\n",
       "      <td>GOA</td>\n",
       "      <td>29.7</td>\n",
       "      <td>5.8</td>\n",
       "      <td>6.9</td>\n",
       "      <td>64</td>\n",
       "      <td>3.8</td>\n",
       "      <td>0.5</td>\n",
       "      <td>5382.0</td>\n",
       "      <td>8443.0</td>\n",
       "      <td>2014</td>\n",
       "    </tr>\n",
       "    <tr>\n",
       "      <th>4</th>\n",
       "      <td>3182</td>\n",
       "      <td>RIVER ZUARI AT MARCAIM JETTY</td>\n",
       "      <td>GOA</td>\n",
       "      <td>29.5</td>\n",
       "      <td>5.8</td>\n",
       "      <td>7.3</td>\n",
       "      <td>83</td>\n",
       "      <td>1.9</td>\n",
       "      <td>0.4</td>\n",
       "      <td>3428.0</td>\n",
       "      <td>5500.0</td>\n",
       "      <td>2014</td>\n",
       "    </tr>\n",
       "  </tbody>\n",
       "</table>\n",
       "</div>"
      ],
      "text/plain": [
       "   STATION CODE                                          LOCATIONS  \\\n",
       "0          1393               DAMANGANGA AT D/S OF MADHUBAN, DAMAN   \n",
       "1          1399  ZUARI AT D/S OF PT. WHERE KUMBARJRIA CANAL JOI...   \n",
       "2          1475                                ZUARI AT PANCHAWADI   \n",
       "3          3181                        RIVER ZUARI AT BORIM BRIDGE   \n",
       "4          3182                       RIVER ZUARI AT MARCAIM JETTY   \n",
       "\n",
       "         STATE  Temp  D.O. (mg/l)   PH  CONDUCTIVITY (µmhos/cm)  \\\n",
       "0  DAMAN & DIU  30.6          6.7  7.5                      203   \n",
       "1          GOA  29.8          5.7  7.2                      189   \n",
       "2          GOA  29.5          6.3  6.9                      179   \n",
       "3          GOA  29.7          5.8  6.9                       64   \n",
       "4          GOA  29.5          5.8  7.3                       83   \n",
       "\n",
       "   B.O.D. (mg/l) NITRATENAN N+ NITRITENANN (mg/l)  FECAL COLIFORM (MPN/100ml)  \\\n",
       "0            0.0                              0.1                        11.0   \n",
       "1            2.0                              0.2                      4953.0   \n",
       "2            1.7                              0.1                      3243.0   \n",
       "3            3.8                              0.5                      5382.0   \n",
       "4            1.9                              0.4                      3428.0   \n",
       "\n",
       "   TOTAL COLIFORM (MPN/100ml)Mean  year  \n",
       "0                            27.0  2014  \n",
       "1                          8391.0  2014  \n",
       "2                          5330.0  2014  \n",
       "3                          8443.0  2014  \n",
       "4                          5500.0  2014  "
      ]
     },
     "execution_count": 2,
     "metadata": {},
     "output_type": "execute_result"
    }
   ],
   "source": [
    "df=pd.read_excel('water-_2.xls')\n",
    "df.head(5)"
   ]
  },
  {
   "cell_type": "code",
   "execution_count": 3,
   "metadata": {
    "colab": {
     "base_uri": "https://localhost:8080/",
     "height": 637
    },
    "id": "BEqqT_NSnW1v",
    "outputId": "d050d5ec-9340-4ed7-adc3-dbb446c5a48a"
   },
   "outputs": [
    {
     "data": {
      "text/html": [
       "<div>\n",
       "<style scoped>\n",
       "    .dataframe tbody tr th:only-of-type {\n",
       "        vertical-align: middle;\n",
       "    }\n",
       "\n",
       "    .dataframe tbody tr th {\n",
       "        vertical-align: top;\n",
       "    }\n",
       "\n",
       "    .dataframe thead th {\n",
       "        text-align: right;\n",
       "    }\n",
       "</style>\n",
       "<table border=\"1\" class=\"dataframe\">\n",
       "  <thead>\n",
       "    <tr style=\"text-align: right;\">\n",
       "      <th></th>\n",
       "      <th>STATION CODE</th>\n",
       "      <th>LOCATIONS</th>\n",
       "      <th>STATE</th>\n",
       "      <th>Temp</th>\n",
       "      <th>D.O. (mg/l)</th>\n",
       "      <th>PH</th>\n",
       "      <th>CONDUCTIVITY (µmhos/cm)</th>\n",
       "      <th>B.O.D. (mg/l)</th>\n",
       "      <th>NITRATENAN N+ NITRITENANN (mg/l)</th>\n",
       "      <th>FECAL COLIFORM (MPN/100ml)</th>\n",
       "      <th>TOTAL COLIFORM (MPN/100ml)Mean</th>\n",
       "      <th>year</th>\n",
       "    </tr>\n",
       "  </thead>\n",
       "  <tbody>\n",
       "    <tr>\n",
       "      <th>245</th>\n",
       "      <td>2</td>\n",
       "      <td>DAMANGANGA AT D/S OF MADHUBAN, DAMAN</td>\n",
       "      <td>DAMAN &amp; DIU</td>\n",
       "      <td>0.0</td>\n",
       "      <td>0.0</td>\n",
       "      <td>0.0</td>\n",
       "      <td>208</td>\n",
       "      <td>0.0</td>\n",
       "      <td>0</td>\n",
       "      <td>0.0</td>\n",
       "      <td>0.0</td>\n",
       "      <td>2013</td>\n",
       "    </tr>\n",
       "    <tr>\n",
       "      <th>865</th>\n",
       "      <td>17</td>\n",
       "      <td>PERIYAR NEAR ALWAYENANELOOR</td>\n",
       "      <td>KERALA</td>\n",
       "      <td>27.5</td>\n",
       "      <td>5.6</td>\n",
       "      <td>6.9</td>\n",
       "      <td>943</td>\n",
       "      <td>1.5</td>\n",
       "      <td>0.4</td>\n",
       "      <td>655.0</td>\n",
       "      <td>1925.0</td>\n",
       "      <td>2011</td>\n",
       "    </tr>\n",
       "    <tr>\n",
       "      <th>375</th>\n",
       "      <td>17</td>\n",
       "      <td>PERIYAR NEAR ALWAYENANELOOR, KERALA</td>\n",
       "      <td>KERALA</td>\n",
       "      <td>28.2</td>\n",
       "      <td>6.0</td>\n",
       "      <td>7.0</td>\n",
       "      <td>5569</td>\n",
       "      <td>2.2</td>\n",
       "      <td>0.68</td>\n",
       "      <td>473.0</td>\n",
       "      <td>1894.0</td>\n",
       "      <td>2013</td>\n",
       "    </tr>\n",
       "    <tr>\n",
       "      <th>118</th>\n",
       "      <td>17</td>\n",
       "      <td>PERIYAR NEAR ALWAYENANELOOR, KERALA</td>\n",
       "      <td>KERALA</td>\n",
       "      <td>28.1</td>\n",
       "      <td>5.0</td>\n",
       "      <td>6.9</td>\n",
       "      <td>3185</td>\n",
       "      <td>1.8</td>\n",
       "      <td>0.4</td>\n",
       "      <td>290.0</td>\n",
       "      <td>667.0</td>\n",
       "      <td>2014</td>\n",
       "    </tr>\n",
       "    <tr>\n",
       "      <th>627</th>\n",
       "      <td>17</td>\n",
       "      <td>PERIYAR NEAR ALWAYENANELOOR</td>\n",
       "      <td>KERALA</td>\n",
       "      <td>28.0</td>\n",
       "      <td>5.1</td>\n",
       "      <td>6.9</td>\n",
       "      <td>1789</td>\n",
       "      <td>2.1</td>\n",
       "      <td>0.68</td>\n",
       "      <td>408.0</td>\n",
       "      <td>1946.0</td>\n",
       "      <td>2012</td>\n",
       "    </tr>\n",
       "    <tr>\n",
       "      <th>...</th>\n",
       "      <td>...</td>\n",
       "      <td>...</td>\n",
       "      <td>...</td>\n",
       "      <td>...</td>\n",
       "      <td>...</td>\n",
       "      <td>...</td>\n",
       "      <td>...</td>\n",
       "      <td>...</td>\n",
       "      <td>...</td>\n",
       "      <td>...</td>\n",
       "      <td>...</td>\n",
       "      <td>...</td>\n",
       "    </tr>\n",
       "    <tr>\n",
       "      <th>93</th>\n",
       "      <td>3471</td>\n",
       "      <td>RIVER KARAMANA AT ARUVIKARA, THIRUVANANTHAPURAM</td>\n",
       "      <td>KERALA</td>\n",
       "      <td>25.1</td>\n",
       "      <td>7.4</td>\n",
       "      <td>7.0</td>\n",
       "      <td>35</td>\n",
       "      <td>0.1</td>\n",
       "      <td>0</td>\n",
       "      <td>165.0</td>\n",
       "      <td>409.0</td>\n",
       "      <td>2014</td>\n",
       "    </tr>\n",
       "    <tr>\n",
       "      <th>350</th>\n",
       "      <td>3471</td>\n",
       "      <td>RIVER KARAMANA AT ARUVIKARA, THIRUVANANTHAPURAM</td>\n",
       "      <td>KERALA</td>\n",
       "      <td>26.3</td>\n",
       "      <td>7.0</td>\n",
       "      <td>7.1</td>\n",
       "      <td>30</td>\n",
       "      <td>0.5</td>\n",
       "      <td>0.32</td>\n",
       "      <td>211.0</td>\n",
       "      <td>496.0</td>\n",
       "      <td>2013</td>\n",
       "    </tr>\n",
       "    <tr>\n",
       "      <th>391</th>\n",
       "      <td>3473</td>\n",
       "      <td>RIVER VALAPATTANAM AT PARASSINIKADAVU, KANNUR</td>\n",
       "      <td>KERALA</td>\n",
       "      <td>27.8</td>\n",
       "      <td>6.6</td>\n",
       "      <td>6.8</td>\n",
       "      <td>15525</td>\n",
       "      <td>1.1</td>\n",
       "      <td>0.06</td>\n",
       "      <td>149.0</td>\n",
       "      <td>347.0</td>\n",
       "      <td>2013</td>\n",
       "    </tr>\n",
       "    <tr>\n",
       "      <th>643</th>\n",
       "      <td>3473</td>\n",
       "      <td>RIVER VALAPATTANAM AT PARASSINIKADAVU, KANNUR</td>\n",
       "      <td>KERALA</td>\n",
       "      <td>27.0</td>\n",
       "      <td>6.6</td>\n",
       "      <td>7.1</td>\n",
       "      <td>15158</td>\n",
       "      <td>1.1</td>\n",
       "      <td>0.26</td>\n",
       "      <td>126.0</td>\n",
       "      <td>810.0</td>\n",
       "      <td>2012</td>\n",
       "    </tr>\n",
       "    <tr>\n",
       "      <th>134</th>\n",
       "      <td>3473</td>\n",
       "      <td>RIVER VALAPATTANAM AT PARASSINIKADAVU, KANNUR</td>\n",
       "      <td>KERALA</td>\n",
       "      <td>28.8</td>\n",
       "      <td>6.6</td>\n",
       "      <td>7.0</td>\n",
       "      <td>14487</td>\n",
       "      <td>0.9</td>\n",
       "      <td>0.3</td>\n",
       "      <td>55.0</td>\n",
       "      <td>103.0</td>\n",
       "      <td>2014</td>\n",
       "    </tr>\n",
       "  </tbody>\n",
       "</table>\n",
       "<p>952 rows × 12 columns</p>\n",
       "</div>"
      ],
      "text/plain": [
       "     STATION CODE                                        LOCATIONS  \\\n",
       "245             2             DAMANGANGA AT D/S OF MADHUBAN, DAMAN   \n",
       "865            17                      PERIYAR NEAR ALWAYENANELOOR   \n",
       "375            17              PERIYAR NEAR ALWAYENANELOOR, KERALA   \n",
       "118            17              PERIYAR NEAR ALWAYENANELOOR, KERALA   \n",
       "627            17                      PERIYAR NEAR ALWAYENANELOOR   \n",
       "..            ...                                              ...   \n",
       "93           3471  RIVER KARAMANA AT ARUVIKARA, THIRUVANANTHAPURAM   \n",
       "350          3471  RIVER KARAMANA AT ARUVIKARA, THIRUVANANTHAPURAM   \n",
       "391          3473    RIVER VALAPATTANAM AT PARASSINIKADAVU, KANNUR   \n",
       "643          3473    RIVER VALAPATTANAM AT PARASSINIKADAVU, KANNUR   \n",
       "134          3473    RIVER VALAPATTANAM AT PARASSINIKADAVU, KANNUR   \n",
       "\n",
       "           STATE  Temp  D.O. (mg/l)   PH  CONDUCTIVITY (µmhos/cm)  \\\n",
       "245  DAMAN & DIU   0.0          0.0  0.0                      208   \n",
       "865       KERALA  27.5          5.6  6.9                      943   \n",
       "375       KERALA  28.2          6.0  7.0                     5569   \n",
       "118       KERALA  28.1          5.0  6.9                     3185   \n",
       "627       KERALA  28.0          5.1  6.9                     1789   \n",
       "..           ...   ...          ...  ...                      ...   \n",
       "93        KERALA  25.1          7.4  7.0                       35   \n",
       "350       KERALA  26.3          7.0  7.1                       30   \n",
       "391       KERALA  27.8          6.6  6.8                    15525   \n",
       "643       KERALA  27.0          6.6  7.1                    15158   \n",
       "134       KERALA  28.8          6.6  7.0                    14487   \n",
       "\n",
       "     B.O.D. (mg/l) NITRATENAN N+ NITRITENANN (mg/l)  \\\n",
       "245            0.0                                0   \n",
       "865            1.5                              0.4   \n",
       "375            2.2                             0.68   \n",
       "118            1.8                              0.4   \n",
       "627            2.1                             0.68   \n",
       "..             ...                              ...   \n",
       "93             0.1                                0   \n",
       "350            0.5                             0.32   \n",
       "391            1.1                             0.06   \n",
       "643            1.1                             0.26   \n",
       "134            0.9                              0.3   \n",
       "\n",
       "     FECAL COLIFORM (MPN/100ml)  TOTAL COLIFORM (MPN/100ml)Mean  year  \n",
       "245                         0.0                             0.0  2013  \n",
       "865                       655.0                          1925.0  2011  \n",
       "375                       473.0                          1894.0  2013  \n",
       "118                       290.0                           667.0  2014  \n",
       "627                       408.0                          1946.0  2012  \n",
       "..                          ...                             ...   ...  \n",
       "93                        165.0                           409.0  2014  \n",
       "350                       211.0                           496.0  2013  \n",
       "391                       149.0                           347.0  2013  \n",
       "643                       126.0                           810.0  2012  \n",
       "134                        55.0                           103.0  2014  \n",
       "\n",
       "[952 rows x 12 columns]"
      ]
     },
     "execution_count": 3,
     "metadata": {},
     "output_type": "execute_result"
    }
   ],
   "source": [
    "df.sort_values(by='STATION CODE', ascending=True)"
   ]
  },
  {
   "cell_type": "code",
   "execution_count": 4,
   "metadata": {
    "id": "hnLNyVgrOWHK"
   },
   "outputs": [],
   "source": [
    "Independent=df[['STATION CODE']]\n",
    "Dependent=df[['PH']]"
   ]
  },
  {
   "cell_type": "code",
   "execution_count": 5,
   "metadata": {
    "id": "dDH-X6pJcaHX"
   },
   "outputs": [],
   "source": [
    "X_train,X_test,Y_train,Y_test =train_test_split(Independent,Dependent,test_size=0.3)"
   ]
  },
  {
   "cell_type": "code",
   "execution_count": 6,
   "metadata": {
    "id": "oD2Qhb8feTGZ"
   },
   "outputs": [],
   "source": [
    "from sklearn.ensemble import RandomForestRegressor"
   ]
  },
  {
   "cell_type": "code",
   "execution_count": 7,
   "metadata": {
    "id": "sUYJ-27Zeorg"
   },
   "outputs": [],
   "source": [
    "rf=RandomForestRegressor()"
   ]
  },
  {
   "cell_type": "code",
   "execution_count": 8,
   "metadata": {
    "colab": {
     "base_uri": "https://localhost:8080/",
     "height": 402
    },
    "id": "RUXw-US_et-D",
    "outputId": "d45c9c48-8409-4abc-8c9b-52a34b676efe"
   },
   "outputs": [
    {
     "data": {
      "text/html": [
       "<div>\n",
       "<style scoped>\n",
       "    .dataframe tbody tr th:only-of-type {\n",
       "        vertical-align: middle;\n",
       "    }\n",
       "\n",
       "    .dataframe tbody tr th {\n",
       "        vertical-align: top;\n",
       "    }\n",
       "\n",
       "    .dataframe thead th {\n",
       "        text-align: right;\n",
       "    }\n",
       "</style>\n",
       "<table border=\"1\" class=\"dataframe\">\n",
       "  <thead>\n",
       "    <tr style=\"text-align: right;\">\n",
       "      <th></th>\n",
       "      <th>PH</th>\n",
       "    </tr>\n",
       "  </thead>\n",
       "  <tbody>\n",
       "    <tr>\n",
       "      <th>514</th>\n",
       "      <td>7.2</td>\n",
       "    </tr>\n",
       "    <tr>\n",
       "      <th>573</th>\n",
       "      <td>7.5</td>\n",
       "    </tr>\n",
       "    <tr>\n",
       "      <th>749</th>\n",
       "      <td>7.4</td>\n",
       "    </tr>\n",
       "    <tr>\n",
       "      <th>172</th>\n",
       "      <td>7.6</td>\n",
       "    </tr>\n",
       "    <tr>\n",
       "      <th>869</th>\n",
       "      <td>6.8</td>\n",
       "    </tr>\n",
       "    <tr>\n",
       "      <th>...</th>\n",
       "      <td>...</td>\n",
       "    </tr>\n",
       "    <tr>\n",
       "      <th>259</th>\n",
       "      <td>8.4</td>\n",
       "    </tr>\n",
       "    <tr>\n",
       "      <th>756</th>\n",
       "      <td>7.3</td>\n",
       "    </tr>\n",
       "    <tr>\n",
       "      <th>86</th>\n",
       "      <td>6.9</td>\n",
       "    </tr>\n",
       "    <tr>\n",
       "      <th>464</th>\n",
       "      <td>6.9</td>\n",
       "    </tr>\n",
       "    <tr>\n",
       "      <th>665</th>\n",
       "      <td>7.4</td>\n",
       "    </tr>\n",
       "  </tbody>\n",
       "</table>\n",
       "<p>666 rows × 1 columns</p>\n",
       "</div>"
      ],
      "text/plain": [
       "      PH\n",
       "514  7.2\n",
       "573  7.5\n",
       "749  7.4\n",
       "172  7.6\n",
       "869  6.8\n",
       "..   ...\n",
       "259  8.4\n",
       "756  7.3\n",
       "86   6.9\n",
       "464  6.9\n",
       "665  7.4\n",
       "\n",
       "[666 rows x 1 columns]"
      ]
     },
     "execution_count": 8,
     "metadata": {},
     "output_type": "execute_result"
    }
   ],
   "source": [
    "Y_train"
   ]
  },
  {
   "cell_type": "markdown",
   "metadata": {
    "id": "LZwEctsahfet"
   },
   "source": [
    "**Training dataset for dependent variable**"
   ]
  },
  {
   "cell_type": "code",
   "execution_count": 9,
   "metadata": {
    "colab": {
     "base_uri": "https://localhost:8080/",
     "height": 402
    },
    "id": "xcPJ3-uLhbnT",
    "outputId": "24a5579e-24fc-4188-d75a-47de47d7702d"
   },
   "outputs": [
    {
     "data": {
      "text/html": [
       "<div>\n",
       "<style scoped>\n",
       "    .dataframe tbody tr th:only-of-type {\n",
       "        vertical-align: middle;\n",
       "    }\n",
       "\n",
       "    .dataframe tbody tr th {\n",
       "        vertical-align: top;\n",
       "    }\n",
       "\n",
       "    .dataframe thead th {\n",
       "        text-align: right;\n",
       "    }\n",
       "</style>\n",
       "<table border=\"1\" class=\"dataframe\">\n",
       "  <thead>\n",
       "    <tr style=\"text-align: right;\">\n",
       "      <th></th>\n",
       "      <th>PH</th>\n",
       "    </tr>\n",
       "  </thead>\n",
       "  <tbody>\n",
       "    <tr>\n",
       "      <th>25</th>\n",
       "      <td>7.4</td>\n",
       "    </tr>\n",
       "    <tr>\n",
       "      <th>209</th>\n",
       "      <td>7.4</td>\n",
       "    </tr>\n",
       "    <tr>\n",
       "      <th>559</th>\n",
       "      <td>7.7</td>\n",
       "    </tr>\n",
       "    <tr>\n",
       "      <th>107</th>\n",
       "      <td>6.6</td>\n",
       "    </tr>\n",
       "    <tr>\n",
       "      <th>512</th>\n",
       "      <td>6.9</td>\n",
       "    </tr>\n",
       "    <tr>\n",
       "      <th>...</th>\n",
       "      <td>...</td>\n",
       "    </tr>\n",
       "    <tr>\n",
       "      <th>940</th>\n",
       "      <td>7.8</td>\n",
       "    </tr>\n",
       "    <tr>\n",
       "      <th>893</th>\n",
       "      <td>8.0</td>\n",
       "    </tr>\n",
       "    <tr>\n",
       "      <th>190</th>\n",
       "      <td>7.7</td>\n",
       "    </tr>\n",
       "    <tr>\n",
       "      <th>201</th>\n",
       "      <td>7.5</td>\n",
       "    </tr>\n",
       "    <tr>\n",
       "      <th>566</th>\n",
       "      <td>7.8</td>\n",
       "    </tr>\n",
       "  </tbody>\n",
       "</table>\n",
       "<p>286 rows × 1 columns</p>\n",
       "</div>"
      ],
      "text/plain": [
       "      PH\n",
       "25   7.4\n",
       "209  7.4\n",
       "559  7.7\n",
       "107  6.6\n",
       "512  6.9\n",
       "..   ...\n",
       "940  7.8\n",
       "893  8.0\n",
       "190  7.7\n",
       "201  7.5\n",
       "566  7.8\n",
       "\n",
       "[286 rows x 1 columns]"
      ]
     },
     "execution_count": 9,
     "metadata": {},
     "output_type": "execute_result"
    }
   ],
   "source": [
    "Y_test"
   ]
  },
  {
   "cell_type": "markdown",
   "metadata": {
    "id": "XzNq0Gl1hs1N"
   },
   "source": [
    "**Testing dataset for dependent variable**"
   ]
  },
  {
   "cell_type": "code",
   "execution_count": 10,
   "metadata": {
    "colab": {
     "base_uri": "https://localhost:8080/",
     "height": 402
    },
    "id": "5ORKeyNZkAKX",
    "outputId": "f34ab48f-35dd-4bfb-9dc6-abe659d93238"
   },
   "outputs": [
    {
     "data": {
      "text/html": [
       "<div>\n",
       "<style scoped>\n",
       "    .dataframe tbody tr th:only-of-type {\n",
       "        vertical-align: middle;\n",
       "    }\n",
       "\n",
       "    .dataframe tbody tr th {\n",
       "        vertical-align: top;\n",
       "    }\n",
       "\n",
       "    .dataframe thead th {\n",
       "        text-align: right;\n",
       "    }\n",
       "</style>\n",
       "<table border=\"1\" class=\"dataframe\">\n",
       "  <thead>\n",
       "    <tr style=\"text-align: right;\">\n",
       "      <th></th>\n",
       "      <th>STATION CODE</th>\n",
       "    </tr>\n",
       "  </thead>\n",
       "  <tbody>\n",
       "    <tr>\n",
       "      <th>514</th>\n",
       "      <td>1400</td>\n",
       "    </tr>\n",
       "    <tr>\n",
       "      <th>573</th>\n",
       "      <td>2714</td>\n",
       "    </tr>\n",
       "    <tr>\n",
       "      <th>749</th>\n",
       "      <td>2050</td>\n",
       "    </tr>\n",
       "    <tr>\n",
       "      <th>172</th>\n",
       "      <td>3023</td>\n",
       "    </tr>\n",
       "    <tr>\n",
       "      <th>869</th>\n",
       "      <td>2334</td>\n",
       "    </tr>\n",
       "    <tr>\n",
       "      <th>...</th>\n",
       "      <td>...</td>\n",
       "    </tr>\n",
       "    <tr>\n",
       "      <th>259</th>\n",
       "      <td>2072</td>\n",
       "    </tr>\n",
       "    <tr>\n",
       "      <th>756</th>\n",
       "      <td>1150</td>\n",
       "    </tr>\n",
       "    <tr>\n",
       "      <th>86</th>\n",
       "      <td>2338</td>\n",
       "    </tr>\n",
       "    <tr>\n",
       "      <th>464</th>\n",
       "      <td>3371</td>\n",
       "    </tr>\n",
       "    <tr>\n",
       "      <th>665</th>\n",
       "      <td>2442</td>\n",
       "    </tr>\n",
       "  </tbody>\n",
       "</table>\n",
       "<p>666 rows × 1 columns</p>\n",
       "</div>"
      ],
      "text/plain": [
       "     STATION CODE\n",
       "514          1400\n",
       "573          2714\n",
       "749          2050\n",
       "172          3023\n",
       "869          2334\n",
       "..            ...\n",
       "259          2072\n",
       "756          1150\n",
       "86           2338\n",
       "464          3371\n",
       "665          2442\n",
       "\n",
       "[666 rows x 1 columns]"
      ]
     },
     "execution_count": 10,
     "metadata": {},
     "output_type": "execute_result"
    }
   ],
   "source": [
    "X_train"
   ]
  },
  {
   "cell_type": "markdown",
   "metadata": {
    "id": "L2jQ5BktilnW"
   },
   "source": [
    "# MODELING WITH RANDOM FOREST REGRESSION ALGORITHM"
   ]
  },
  {
   "cell_type": "markdown",
   "metadata": {
    "id": "987Av7wF1ukG"
   },
   "source": [
    "Random Forest is a powerful and versatile supervised machine learning algorithm that grows and combines multiple decision trees to create a “forest.” It can be used for both classification and regression problems \n",
    "\n",
    "![randomForest.jpg](data:image/jpeg;base64,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)"
   ]
  },
  {
   "cell_type": "code",
   "execution_count": 11,
   "metadata": {
    "colab": {
     "base_uri": "https://localhost:8080/"
    },
    "id": "uE2mWookh58b",
    "outputId": "a1fe4677-2630-42a1-9ef5-c7ee2b803572"
   },
   "outputs": [
    {
     "name": "stdout",
     "output_type": "stream",
     "text": [
      "<class 'pandas.core.frame.DataFrame'>\n",
      "Int64Index: 666 entries, 514 to 665\n",
      "Data columns (total 1 columns):\n",
      " #   Column  Non-Null Count  Dtype  \n",
      "---  ------  --------------  -----  \n",
      " 0   PH      666 non-null    float64\n",
      "dtypes: float64(1)\n",
      "memory usage: 10.4 KB\n"
     ]
    }
   ],
   "source": [
    "import numpy as np\n",
    "Y_train.info()"
   ]
  },
  {
   "cell_type": "code",
   "execution_count": 12,
   "metadata": {
    "colab": {
     "base_uri": "https://localhost:8080/"
    },
    "id": "e1fvWvVeqCWw",
    "outputId": "2c51eb16-acb7-429b-e311-a98318f6d879"
   },
   "outputs": [
    {
     "name": "stdout",
     "output_type": "stream",
     "text": [
      "<class 'pandas.core.frame.DataFrame'>\n",
      "Int64Index: 666 entries, 514 to 665\n",
      "Data columns (total 1 columns):\n",
      " #   Column        Non-Null Count  Dtype\n",
      "---  ------        --------------  -----\n",
      " 0   STATION CODE  666 non-null    int64\n",
      "dtypes: int64(1)\n",
      "memory usage: 10.4 KB\n"
     ]
    }
   ],
   "source": [
    "X_train.info()"
   ]
  },
  {
   "cell_type": "code",
   "execution_count": 13,
   "metadata": {
    "colab": {
     "base_uri": "https://localhost:8080/"
    },
    "id": "lWSUJRxSqSOF",
    "outputId": "36ee565e-1bde-47df-8a56-688953e49de3"
   },
   "outputs": [
    {
     "name": "stderr",
     "output_type": "stream",
     "text": [
      "<ipython-input-13-dfa99dfdb604>:1: DataConversionWarning: A column-vector y was passed when a 1d array was expected. Please change the shape of y to (n_samples,), for example using ravel().\n",
      "  model=rf.fit(np.array(X_train).reshape(-1,1),np.array(Y_train).reshape(-1,1))\n"
     ]
    }
   ],
   "source": [
    "model=rf.fit(np.array(X_train).reshape(-1,1),np.array(Y_train).reshape(-1,1))"
   ]
  },
  {
   "cell_type": "code",
   "execution_count": 14,
   "metadata": {
    "id": "j6yWP3WRqqkE"
   },
   "outputs": [
    {
     "name": "stdout",
     "output_type": "stream",
     "text": [
      "591\n"
     ]
    }
   ],
   "source": [
    "x=int(input())\n",
    "Result=np.array(rf.predict(np.array([[x]])))"
   ]
  },
  {
   "cell_type": "code",
   "execution_count": 15,
   "metadata": {
    "colab": {
     "base_uri": "https://localhost:8080/"
    },
    "id": "gtZiJCkAusv5",
    "outputId": "9224aee6-7cdf-4b2f-e735-59698a7c2da9"
   },
   "outputs": [
    {
     "name": "stdout",
     "output_type": "stream",
     "text": [
      "Slightly Polluted\n"
     ]
    }
   ],
   "source": [
    "if Result>7.0 and Result <7.5:\n",
    "  print (\"Slightly Polluted\")\n",
    "elif Result >7.5:\n",
    "  print (\"Polluted\")  \n",
    "else :\n",
    "  print (\"Not Polluted\")  "
   ]
  },
  {
   "cell_type": "code",
   "execution_count": 26,
   "metadata": {},
   "outputs": [
    {
     "name": "stdout",
     "output_type": "stream",
     "text": [
      "0.18889351494950857\n"
     ]
    }
   ],
   "source": []
  },
  {
   "cell_type": "code",
   "execution_count": null,
   "metadata": {},
   "outputs": [],
   "source": []
  },
  {
   "cell_type": "code",
   "execution_count": 18,
   "metadata": {},
   "outputs": [],
   "source": []
  },
  {
   "cell_type": "code",
   "execution_count": 22,
   "metadata": {},
   "outputs": [],
   "source": []
  },
  {
   "cell_type": "code",
   "execution_count": null,
   "metadata": {},
   "outputs": [],
   "source": []
  }
 ],
 "metadata": {
  "colab": {
   "collapsed_sections": [],
   "name": "2.Prediction.ipynb",
   "provenance": []
  },
  "kernelspec": {
   "display_name": "Python 3",
   "language": "python",
   "name": "python3"
  },
  "language_info": {
   "codemirror_mode": {
    "name": "ipython",
    "version": 3
   },
   "file_extension": ".py",
   "mimetype": "text/x-python",
   "name": "python",
   "nbconvert_exporter": "python",
   "pygments_lexer": "ipython3",
   "version": "3.8.10"
  }
 },
 "nbformat": 4,
 "nbformat_minor": 1
}
